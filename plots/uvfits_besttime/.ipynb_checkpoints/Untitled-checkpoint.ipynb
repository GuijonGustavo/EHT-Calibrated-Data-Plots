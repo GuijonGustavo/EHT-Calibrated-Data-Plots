{
 "cells": [
  {
   "cell_type": "code",
   "execution_count": 1,
   "id": "aac78e10",
   "metadata": {},
   "outputs": [],
   "source": [
    "import sys\n",
    "import os\n",
    "\n",
    "# Obtén la ruta del directorio actual (donde se encuentra tu script)\n",
    "#current_dir = os.path.dirname(os.path.abspath(__file__))\n",
    "current_dir = os.path.dirname(os.path.abspath('/home/wattie/Descargas/Telegram Desktop/eht/EHTC_FirstSgrAResults_May2022/hallmark/demos'))\n",
    "\n",
    "\n",
    "\n",
    "# Agrega el directorio `mod` a la ruta de búsqueda de módulos\n",
    "mod_path = os.path.join(current_dir, 'mod')\n",
    "sys.path.append(mod_path)"
   ]
  },
  {
   "cell_type": "code",
   "execution_count": 2,
   "id": "9ee44bf6",
   "metadata": {},
   "outputs": [
    {
     "ename": "ModuleNotFoundError",
     "evalue": "No module named 'hallmark'",
     "output_type": "error",
     "traceback": [
      "\u001b[0;31m---------------------------------------------------------------------------\u001b[0m",
      "\u001b[0;31mModuleNotFoundError\u001b[0m                       Traceback (most recent call last)",
      "Cell \u001b[0;32mIn[2], line 18\u001b[0m\n\u001b[1;32m      1\u001b[0m \u001b[38;5;66;03m#!/usr/bin/env python3\u001b[39;00m\n\u001b[1;32m      2\u001b[0m \u001b[38;5;66;03m#\u001b[39;00m\n\u001b[1;32m      3\u001b[0m \u001b[38;5;66;03m# Copyright (C) 2022 The Event Horizon Telescope Collaboration\u001b[39;00m\n\u001b[0;32m   (...)\u001b[0m\n\u001b[1;32m     15\u001b[0m \u001b[38;5;66;03m# You should have received a copy of the GNU General Public License\u001b[39;00m\n\u001b[1;32m     16\u001b[0m \u001b[38;5;66;03m# along with this program.  If not, see <https://www.gnu.org/licenses/>.\u001b[39;00m\n\u001b[0;32m---> 18\u001b[0m \u001b[38;5;28;01mfrom\u001b[39;00m \u001b[38;5;21;01mhallmark\u001b[39;00m \u001b[38;5;28;01mimport\u001b[39;00m ParaFrame\n\u001b[1;32m     19\u001b[0m \u001b[38;5;28;01mimport\u001b[39;00m \u001b[38;5;21;01mnumpy\u001b[39;00m \u001b[38;5;28;01mas\u001b[39;00m \u001b[38;5;21;01mnp\u001b[39;00m\n\u001b[1;32m     20\u001b[0m \u001b[38;5;28;01mimport\u001b[39;00m \u001b[38;5;21;01mehtim\u001b[39;00m \u001b[38;5;28;01mas\u001b[39;00m \u001b[38;5;21;01meh\u001b[39;00m\n",
      "\u001b[0;31mModuleNotFoundError\u001b[0m: No module named 'hallmark'"
     ]
    }
   ],
   "source": [
    "#!/usr/bin/env python3\n",
    "#\n",
    "# Copyright (C) 2022 The Event Horizon Telescope Collaboration\n",
    "#\n",
    "# This program is free software: you can redistribute it and/or modify\n",
    "# it under the terms of the GNU General Public License as published by\n",
    "# the Free Software Foundation, either version 3 of the License, or\n",
    "# (at your option) any later version.\n",
    "#\n",
    "# This program is distributed in the hope that it will be useful,\n",
    "# but WITHOUT ANY WARRANTY; without even the implied warranty of\n",
    "# MERCHANTABILITY or FITNESS FOR A PARTICULAR PURPOSE.  See the\n",
    "# GNU General Public License for more details.\n",
    "#\n",
    "# You should have received a copy of the GNU General Public License\n",
    "# along with this program.  If not, see <https://www.gnu.org/licenses/>.\n",
    "\n",
    "from hallmark import ParaFrame\n",
    "import numpy as np\n",
    "import ehtim as eh\n",
    "\n",
    "tag  = 'ER6'\n",
    "src  = 'SGRA'\n",
    "year = 2017\n",
    "doy  = {3597:'095',3598:'096',3599:'097',3600:'100',3601:'101'}\n",
    "\n",
    "pf = ParaFrame('../ER6_SGRA/{expt:04d}_besttime/{pipeline}/{pipeline}_{expt:04d}_SGRA_{band}_{stage}.uvfits')\n",
    "pf = pf(stage=['netcal_LMTcal_10s_regionIII'])(band=['HI','LO'])\n",
    "\n",
    "for k in set(pf.keys()) - {'path'}:\n",
    "    globals()[k] = np.unique(pf[k])\n",
    "    print(k, globals()[k][:16])\n",
    "\n",
    "for _, r in pf.iterrows():\n",
    "    # load from uvfits file\n",
    "    f0stokes = eh.obsdata.load_uvfits(r.path, polrep='stokes')\n",
    "\n",
    "    for col in ['qvis','uvis','vvis','qsigma','usigma']:\n",
    "        # remove non-Stokes I components but keep Stokes V errors for consistent\n",
    "        # treatment of errors magnitude with Stokes / pseudo Stokes data present\n",
    "        f0stokes.data[col] *= 0 # this operation is nan-preserving\n",
    "\n",
    "    # remove record of single polarization pseudo-I construction (remove nan)\n",
    "    f0stokes.data['vvis']   = 0. * f0stokes.data['vis']\n",
    "    f0stokes.data['vsigma'] = 1. * f0stokes.data['sigma']\n",
    "\n",
    "    # save the uvfits file\n",
    "    yd      = f'{year}_{doy[r.expt]}'\n",
    "    band    = r.band.lower()\n",
    "    stage   = r.stage.replace('_10s_regionIII', '_besttime').replace('_', '-')\n",
    "    outname = f'{tag}_{src}_{yd}_{band}_{r.pipeline}_{stage}_StokesI.uvfits'\n",
    "    f0stokes.save_uvfits(outname)\n"
   ]
  },
  {
   "cell_type": "code",
   "execution_count": null,
   "id": "146b0776",
   "metadata": {},
   "outputs": [],
   "source": []
  }
 ],
 "metadata": {
  "kernelspec": {
   "display_name": "Python 3 (ipykernel)",
   "language": "python",
   "name": "python3"
  },
  "language_info": {
   "codemirror_mode": {
    "name": "ipython",
    "version": 3
   },
   "file_extension": ".py",
   "mimetype": "text/x-python",
   "name": "python",
   "nbconvert_exporter": "python",
   "pygments_lexer": "ipython3",
   "version": "3.11.5"
  }
 },
 "nbformat": 4,
 "nbformat_minor": 5
}
